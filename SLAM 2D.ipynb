{
 "cells": [
  {
   "cell_type": "code",
   "execution_count": 1,
   "id": "94339ca2",
   "metadata": {},
   "outputs": [],
   "source": [
    "from g2opy import g2opy as g2o\n",
    "import numpy as np\n",
    "\n",
    "# Landmark sensing noise\n",
    "noise = 0.02"
   ]
  },
  {
   "attachments": {},
   "cell_type": "markdown",
   "id": "b4dc2d9c",
   "metadata": {},
   "source": [
    "Create all g2o elements: optimizer, solver and algorithm."
   ]
  },
  {
   "cell_type": "code",
   "execution_count": 2,
   "id": "1a8440eb",
   "metadata": {},
   "outputs": [],
   "source": [
    "optimizer = g2o.SparseOptimizer()\n",
    "solver = g2o.BlockSolverX(g2o.LinearSolverDenseX())\n",
    "algorithm = g2o.OptimizationAlgorithmLevenberg(solver)\n",
    "optimizer.set_algorithm(algorithm)"
   ]
  },
  {
   "attachments": {},
   "cell_type": "markdown",
   "id": "c2f33f60",
   "metadata": {},
   "source": [
    "Create 1000 landmarks (2D points)"
   ]
  },
  {
   "cell_type": "code",
   "execution_count": 3,
   "id": "f0b7820c",
   "metadata": {},
   "outputs": [
    {
     "name": "stdout",
     "output_type": "stream",
     "text": [
      "[[ 0.45578976  0.33228071]\n",
      " [-0.55387114  0.0107115 ]\n",
      " [-0.88197108 -0.05861287]\n",
      " ...\n",
      " [-1.0049818  -0.34711565]\n",
      " [-0.7501989  -0.24020415]\n",
      " [ 0.61243225 -0.35520149]]\n"
     ]
    }
   ],
   "source": [
    "true_points = np.hstack([\n",
    "    np.random.random((1000, 1)) * 3 - 1.5,\n",
    "    np.random.random((1000, 1)) - 0.5])\n",
    "\n",
    "print(true_points)"
   ]
  },
  {
   "attachments": {},
   "cell_type": "markdown",
   "id": "34abb844",
   "metadata": {},
   "source": [
    "Create two robot estimated positions:\n",
    " - Vertex 0 is at (0, 0) with orientation 0 deg\n",
    " - Vertex 1 is at (1, 0) with orientation 0 deg\n",
    "\n",
    "Add odometric edge (EdgeSE2) between vertices 0 and 1"
   ]
  },
  {
   "cell_type": "code",
   "execution_count": 4,
   "id": "d485f4db",
   "metadata": {},
   "outputs": [
    {
     "data": {
      "text/plain": [
       "True"
      ]
     },
     "execution_count": 4,
     "metadata": {},
     "output_type": "execute_result"
    }
   ],
   "source": [
    "\n",
    "# Add two vertices at two robot positions\n",
    "for i in range(2):\n",
    "    t = np.array([0, i])\n",
    "    odometry = g2o.SE2(i, 0, 0)\n",
    "    vc = g2o.VertexSE2()\n",
    "    vc.set_id(i)\n",
    "    vc.set_estimate(odometry)\n",
    "    if i == 0:\n",
    "        vc.set_fixed(True)\n",
    "    optimizer.add_vertex(vc)\n",
    "    \n",
    "    \n",
    "# Add edges between these robot positions\n",
    "edge = g2o.EdgeSE2()\n",
    "edge.set_vertex(0, optimizer.vertex(0))\n",
    "edge.set_vertex(1, optimizer.vertex(1))\n",
    "edge.set_measurement(g2o.SE2(i, 0, 0))\n",
    "edge.set_information(np.array(\n",
    "    [[1, 0, 0], \n",
    "     [0, 1, 0], \n",
    "     [0, 0, 1]]))\n",
    "optimizer.add_edge(edge)"
   ]
  },
  {
   "attachments": {},
   "cell_type": "markdown",
   "id": "5139992b",
   "metadata": {},
   "source": [
    "Prepare inverse transformation for relative landmark measurements"
   ]
  },
  {
   "cell_type": "code",
   "execution_count": 5,
   "id": "fe4270f2",
   "metadata": {},
   "outputs": [
    {
     "name": "stdout",
     "output_type": "stream",
     "text": [
      "[ 0. -0.] 0.0\n",
      "[-1. -0.] 0.0\n"
     ]
    }
   ],
   "source": [
    "trans0 = optimizer.vertex(0).estimate().inverse()\n",
    "trans1 = optimizer.vertex(1).estimate().inverse()\n",
    "\n",
    "print(trans0.translation(), trans0.rotation().angle())\n",
    "print(trans1.translation(), trans1.rotation().angle())"
   ]
  },
  {
   "attachments": {},
   "cell_type": "markdown",
   "id": "4f0166e8",
   "metadata": {},
   "source": [
    "Create landmark observations as VertexPointXY and their measurements from the robot poses as EdgeSE2PointXY.\n",
    "In this example, all robot poses see all landmarks. In a real scenario, we'd add all landmarks but only add the edges that we've measured."
   ]
  },
  {
   "cell_type": "code",
   "execution_count": 6,
   "id": "7da84d43",
   "metadata": {},
   "outputs": [],
   "source": [
    "# set up point matches\n",
    "for i in range(len(true_points)):\n",
    "    # calculate the relative 3d position of the point\n",
    "    pt0 = trans0 * true_points[i]\n",
    "    pt1 = trans1 * true_points[i]\n",
    "\n",
    "    # add noise\n",
    "    pt0 += np.random.randn(2) * noise\n",
    "    pt1 += np.random.randn(2) * noise\n",
    "\n",
    "    landmark = g2o.VertexPointXY()\n",
    "    landmark.set_id(3 + i)\n",
    "    landmark.set_estimate(true_points[i])\n",
    "    optimizer.add_vertex(landmark)\n",
    "    \n",
    "\n",
    "    edge = g2o.EdgeSE2PointXY()\n",
    "    edge.set_vertex(0, optimizer.vertex(0))\n",
    "    edge.set_vertex(1, optimizer.vertex(2 + i))\n",
    "    edge.set_measurement(pt0)\n",
    "    edge.set_information(np.identity(2))\n",
    "    \n",
    "    edge = g2o.EdgeSE2PointXY()\n",
    "    edge.set_vertex(0, optimizer.vertex(1))\n",
    "    edge.set_vertex(1, optimizer.vertex(2 + i))\n",
    "    edge.set_measurement(pt1)\n",
    "    edge.set_information(np.identity(2))\n",
    "\n",
    "    optimizer.add_edge(edge)"
   ]
  },
  {
   "cell_type": "code",
   "execution_count": 7,
   "id": "8c897c05",
   "metadata": {},
   "outputs": [],
   "source": [
    "# move second robot pose off of its true position\n",
    "vc = optimizer.vertex(1)\n",
    "cam = g2o.SE2(0.2, 0, 0)\n",
    "vc.set_estimate(cam)"
   ]
  },
  {
   "cell_type": "code",
   "execution_count": 8,
   "id": "0d834c1c",
   "metadata": {},
   "outputs": [
    {
     "data": {
      "text/plain": [
       "array([0.2, 0. ])"
      ]
     },
     "execution_count": 8,
     "metadata": {},
     "output_type": "execute_result"
    }
   ],
   "source": [
    "cam.translation()"
   ]
  },
  {
   "cell_type": "code",
   "execution_count": 9,
   "id": "7a339b0d",
   "metadata": {},
   "outputs": [
    {
     "name": "stdout",
     "output_type": "stream",
     "text": [
      "Initial chi2 = 2309.6300256203826\n"
     ]
    }
   ],
   "source": [
    "optimizer.initialize_optimization()\n",
    "optimizer.compute_active_errors()\n",
    "print('Initial chi2 =', optimizer.chi2())"
   ]
  },
  {
   "cell_type": "code",
   "execution_count": 10,
   "id": "752aefb2",
   "metadata": {},
   "outputs": [
    {
     "name": "stdout",
     "output_type": "stream",
     "text": [
      "\n",
      "Second vertex should be near [1, 0, 0]\n",
      "before optimization: [0.2 0. ]\n",
      "after  optimization: [9.99912540e-01 5.97132866e-05]\n"
     ]
    },
    {
     "name": "stderr",
     "output_type": "stream",
     "text": [
      "iteration= 0\t chi2= 0.239075\t time= 0.671896\t cumTime= 0.671896\t edges= 1000\t schur= 0\t lambda= 0.003333\t levenbergIter= 1\n",
      "iteration= 1\t chi2= 0.000012\t time= 0.635748\t cumTime= 1.30764\t edges= 1000\t schur= 0\t lambda= 0.001111\t levenbergIter= 1\n",
      "iteration= 2\t chi2= 0.000000\t time= 0.623196\t cumTime= 1.93084\t edges= 1000\t schur= 0\t lambda= 0.000741\t levenbergIter= 1\n",
      "iteration= 3\t chi2= 0.000000\t time= 0.614513\t cumTime= 2.54535\t edges= 1000\t schur= 0\t lambda= 0.000494\t levenbergIter= 1\n",
      "iteration= 4\t chi2= 0.000000\t time= 0.627083\t cumTime= 3.17244\t edges= 1000\t schur= 0\t lambda= 0.000329\t levenbergIter= 1\n"
     ]
    }
   ],
   "source": [
    "optimizer.set_verbose(True)\n",
    "optimizer.optimize(5)\n",
    "\n",
    "print('\\nSecond vertex should be near [1, 0, 0]')\n",
    "print('before optimization:', cam.translation())\n",
    "print('after  optimization:', optimizer.vertex(1).estimate().translation())"
   ]
  },
  {
   "cell_type": "code",
   "execution_count": null,
   "id": "15c3f94e",
   "metadata": {},
   "outputs": [],
   "source": []
  },
  {
   "cell_type": "code",
   "execution_count": null,
   "id": "ba8764ec",
   "metadata": {},
   "outputs": [],
   "source": []
  }
 ],
 "metadata": {
  "kernelspec": {
   "display_name": "Python 3",
   "language": "python",
   "name": "python3"
  },
  "language_info": {
   "codemirror_mode": {
    "name": "ipython",
    "version": 3
   },
   "file_extension": ".py",
   "mimetype": "text/x-python",
   "name": "python",
   "nbconvert_exporter": "python",
   "pygments_lexer": "ipython3",
   "version": "3.10.6 (main, Nov 14 2022, 16:10:14) [GCC 11.3.0]"
  },
  "vscode": {
   "interpreter": {
    "hash": "767d51c1340bd893661ea55ea3124f6de3c7a262a8b4abca0554b478b1e2ff90"
   }
  }
 },
 "nbformat": 4,
 "nbformat_minor": 5
}
