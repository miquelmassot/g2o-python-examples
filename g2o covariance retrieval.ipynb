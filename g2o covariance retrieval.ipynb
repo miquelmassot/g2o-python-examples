{
 "cells": [
  {
   "cell_type": "code",
   "execution_count": 1,
   "id": "492ad840",
   "metadata": {},
   "outputs": [],
   "source": [
    "# if importing g2o does not work, uncomment the line above\n",
    "#!python -m pip install g2o-python\n",
    "import g2o"
   ]
  },
  {
   "cell_type": "code",
   "execution_count": 2,
   "id": "e7b5c4fd",
   "metadata": {},
   "outputs": [],
   "source": [
    "import numpy as np\n",
    "\n",
    "class GraphSLAM2D:\n",
    "    def __init__(self, verbose=False) -> None:\n",
    "        '''\n",
    "        GraphSLAM in 2D with G2O\n",
    "        '''\n",
    "        self.optimizer = g2o.SparseOptimizer()\n",
    "        self.solver = g2o.BlockSolverX(g2o.LinearSolverDenseX())\n",
    "        self.algorithm = g2o.OptimizationAlgorithmLevenberg(self.solver)\n",
    "        self.optimizer.set_algorithm(self.algorithm)\n",
    "\n",
    "        self.vertex_count = 0\n",
    "        self.edge_count = 0\n",
    "        self.verbose = verbose\n",
    "\n",
    "    def vertex_pose(self, id):\n",
    "        '''\n",
    "        Get position of vertex by id\n",
    "        '''\n",
    "        return self.optimizer.vertex(id).estimate()\n",
    "\n",
    "    def vertex(self, id):\n",
    "        '''\n",
    "        Get vertex by id\n",
    "        '''\n",
    "        return self.optimizer.vertex(id)\n",
    "\n",
    "    def edge(self, id):\n",
    "        '''\n",
    "        Get edge by id\n",
    "        '''\n",
    "        return self.optimizer.edge(id)\n",
    "\n",
    "    def add_fixed_pose(self, pose, vertex_id=None):\n",
    "        '''\n",
    "        Add fixed pose to the graph\n",
    "        '''\n",
    "        v_se2 = g2o.VertexSE2()\n",
    "        if vertex_id is None:\n",
    "            vertex_id = self.vertex_count\n",
    "        v_se2.set_id(vertex_id)\n",
    "        if self.verbose:\n",
    "            print(\"Adding fixed pose vertex with ID\", vertex_id)\n",
    "        v_se2.set_estimate(pose)\n",
    "        v_se2.set_fixed(True)\n",
    "        self.optimizer.add_vertex(v_se2)\n",
    "        self.vertex_count += 1\n",
    "\n",
    "    def add_odometry(self, northings, eastings, heading, information):\n",
    "        '''\n",
    "        Add odometry to the graph\n",
    "        '''\n",
    "        # Find the last pose vertex id\n",
    "        vertices = self.optimizer.vertices()\n",
    "        if len(vertices) > 0:\n",
    "            last_id = [v for v in vertices if type(vertices[v]) == g2o.VertexSE2][0]\n",
    "            print(\"Last id is\", last_id)\n",
    "        else:\n",
    "            raise ValueError(\"There is no previous pose, have you forgot to add a fixed initial pose?\")\n",
    "        v_se2 = g2o.VertexSE2()\n",
    "        if self.verbose:\n",
    "            print(\"Adding pose vertex\", self.vertex_count)\n",
    "        v_se2.set_id(self.vertex_count)\n",
    "        pose = g2o.SE2(northings, eastings, heading)\n",
    "        v_se2.set_estimate(pose)\n",
    "        self.optimizer.add_vertex(v_se2)\n",
    "        # add edge\n",
    "        e_se2 = g2o.EdgeSE2()\n",
    "        e_se2.set_vertex(0, self.vertex(last_id))\n",
    "        e_se2.set_vertex(1, self.vertex(self.vertex_count))\n",
    "        e_se2.set_measurement(pose)\n",
    "        e_se2.set_information(information)\n",
    "        self.optimizer.add_edge(e_se2)\n",
    "        self.vertex_count += 1\n",
    "        self.edge_count += 1\n",
    "        if self.verbose:\n",
    "            print(\"Adding SE2 edge between\", last_id, self.vertex_count-1)\n",
    "\n",
    "    def add_landmark(self, x, y, information, pose_id, landmark_id=None):\n",
    "        '''\n",
    "        Add landmark to the graph\n",
    "        '''\n",
    "        relative_measurement = np.array([x, y])\n",
    "        \n",
    "        # Check that the pose_id is of type VertexSE2\n",
    "        if type(self.optimizer.vertex(pose_id)) != g2o.VertexSE2:\n",
    "            raise ValueError(\"The pose_id that you have provided does not correspond to a VertexSE2\")\n",
    "        \n",
    "        trans0 = self.optimizer.vertex(pose_id).estimate()\n",
    "        measurement = trans0 * relative_measurement\n",
    "        \n",
    "        print(relative_measurement, measurement)\n",
    "        \n",
    "        if landmark_id is None:\n",
    "            landmark_id = self.vertex_count\n",
    "            v_pointxy = g2o.VertexPointXY()\n",
    "            v_pointxy.set_estimate(measurement)\n",
    "            v_pointxy.set_id(landmark_id)\n",
    "            if self.verbose:\n",
    "                print(\"Adding landmark vertex\", landmark_id)\n",
    "            self.optimizer.add_vertex(v_pointxy)\n",
    "            self.vertex_count += 1\n",
    "        # add edge\n",
    "        e_pointxy = g2o.EdgeSE2PointXY()\n",
    "        e_pointxy.set_vertex(0, self.vertex(pose_id))\n",
    "        e_pointxy.set_vertex(1, self.vertex(landmark_id))\n",
    "        self.edge_count += 1\n",
    "        e_pointxy.set_measurement(relative_measurement)\n",
    "        e_pointxy.set_information(information)\n",
    "        self.optimizer.add_edge(e_pointxy)\n",
    "        if self.verbose:\n",
    "            print(\"Adding landmark edge between\", pose_id, landmark_id)\n",
    "\n",
    "    def optimize(self, iterations=10, verbose=None):\n",
    "        '''\n",
    "        Optimize the graph\n",
    "        '''\n",
    "        self.optimizer.initialize_optimization()\n",
    "        if verbose is None:\n",
    "            verbose = self.verbose\n",
    "        self.optimizer.set_verbose(verbose)\n",
    "        self.optimizer.optimize(iterations)\n",
    "        return self.optimizer.chi2()"
   ]
  },
  {
   "cell_type": "code",
   "execution_count": 3,
   "id": "733102b0",
   "metadata": {},
   "outputs": [
    {
     "name": "stdout",
     "output_type": "stream",
     "text": [
      "Adding fixed pose vertex with ID 0\n",
      "[0 1] [0. 1.]\n",
      "Adding landmark vertex 1\n",
      "Adding landmark edge between 0 1\n",
      "Last id is 0\n",
      "Adding pose vertex 2\n",
      "Adding SE2 edge between 0 2\n",
      "[0 1] [1. 1.]\n",
      "Adding landmark vertex 3\n",
      "Adding landmark edge between 2 3\n",
      "Last id is 2\n",
      "Adding pose vertex 4\n",
      "Adding SE2 edge between 2 4\n",
      "[0 1] [2. 1.]\n",
      "Adding landmark vertex 5\n",
      "Adding landmark edge between 4 5\n",
      "[1 1] [2. 1.]\n",
      "Adding landmark edge between 2 5\n"
     ]
    },
    {
     "name": "stderr",
     "output_type": "stream",
     "text": [
      "iteration= 0\t chi2= 0.057383\t time= 3.15001e-05\t cumTime= 3.15001e-05\t edges= 6\t schur= 0\t lambda= 0.000022\t levenbergIter= 1\n",
      "iteration= 1\t chi2= 0.047582\t time= 9.31323e-06\t cumTime= 4.08133e-05\t edges= 6\t schur= 0\t lambda= 0.000009\t levenbergIter= 1\n",
      "iteration= 2\t chi2= 0.047501\t time= 5.82077e-06\t cumTime= 4.66341e-05\t edges= 6\t schur= 0\t lambda= 0.000006\t levenbergIter= 1\n",
      "iteration= 3\t chi2= 0.047498\t time= 5.07897e-06\t cumTime= 5.17131e-05\t edges= 6\t schur= 0\t lambda= 0.000004\t levenbergIter= 1\n",
      "iteration= 4\t chi2= 0.047498\t time= 4.4941e-06\t cumTime= 5.62072e-05\t edges= 6\t schur= 0\t lambda= 0.000003\t levenbergIter= 1\n",
      "iteration= 5\t chi2= 0.047498\t time= 4.45591e-06\t cumTime= 6.06631e-05\t edges= 6\t schur= 0\t lambda= 0.000002\t levenbergIter= 1\n",
      "iteration= 6\t chi2= 0.047498\t time= 6.09783e-06\t cumTime= 6.67609e-05\t edges= 6\t schur= 0\t lambda= 0.000001\t levenbergIter= 1\n",
      "iteration= 7\t chi2= 0.047498\t time= 4.57885e-06\t cumTime= 7.13398e-05\t edges= 6\t schur= 0\t lambda= 0.000001\t levenbergIter= 1\n",
      "iteration= 8\t chi2= 0.047498\t time= 4.3367e-06\t cumTime= 7.56765e-05\t edges= 6\t schur= 0\t lambda= 0.000001\t levenbergIter= 1\n",
      "iteration= 9\t chi2= 0.047498\t time= 4.26965e-06\t cumTime= 7.99461e-05\t edges= 6\t schur= 0\t lambda= 0.000000\t levenbergIter= 1\n"
     ]
    },
    {
     "data": {
      "text/plain": [
       "0.04749837609735881"
      ]
     },
     "execution_count": 3,
     "metadata": {},
     "output_type": "execute_result"
    }
   ],
   "source": [
    "graph_slam = GraphSLAM2D(verbose=True)\n",
    "\n",
    "# Add fixed pose ID #0\n",
    "graph_slam.add_fixed_pose(g2o.SE2())\n",
    "\n",
    "# Add a landmark #1\n",
    "landmark_x = 0\n",
    "landmark_y = 1\n",
    "graph_slam.add_landmark(landmark_x, landmark_y, np.eye(2), pose_id=0)\n",
    "\n",
    "# Add odometry #2\n",
    "graph_slam.add_odometry(1, 0, 0, 0.1*np.eye(3))\n",
    " \n",
    "# Add a landmark #3\n",
    "landmark_x = 0\n",
    "landmark_y = 1\n",
    "graph_slam.add_landmark(landmark_x, landmark_y, np.eye(2), pose_id=2)\n",
    "\n",
    "# Add another odometry #4\n",
    "graph_slam.add_odometry(2, 0, 0, 0.1*np.eye(3))\n",
    "\n",
    "# Add a new landmark #5\n",
    "landmark_x = 0\n",
    "landmark_y = 1\n",
    "graph_slam.add_landmark(landmark_x, landmark_y, np.eye(2), pose_id=4)\n",
    "\n",
    "# Add a new landmark relationship between ID #2 and ID #5\n",
    "landmark_x = 1\n",
    "landmark_y = 1\n",
    "graph_slam.add_landmark(landmark_x, landmark_y, np.eye(2), pose_id=2, landmark_id=5)\n",
    "\n",
    "# Optimize\n",
    "graph_slam.optimize(10, verbose=True)"
   ]
  },
  {
   "cell_type": "code",
   "execution_count": 6,
   "id": "bdae9836",
   "metadata": {},
   "outputs": [
    {
     "name": "stdout",
     "output_type": "stream",
     "text": [
      "len(vertices): 6\n",
      "Sparse pattern contains 2 blocks\n",
      "[(3, 3), (1, 1)]\n"
     ]
    }
   ],
   "source": [
    "from g2o import SparseBlockMatrixX\n",
    "\n",
    "vertices = graph_slam.optimizer.vertices()\n",
    "print(\"len(vertices):\", len(vertices))\n",
    "\n",
    "cov_vertices = []\n",
    "covariances = SparseBlockMatrixX()\n",
    "for vertex_idx in vertices:\n",
    "    v = vertices[vertex_idx]\n",
    "    if type(v) == g2o.VertexSE2 and not v.fixed():\n",
    "        cov_vertices.append((v.hessian_index(), v.hessian_index()))\n",
    "print(\"Sparse pattern contains\", len(cov_vertices), \"blocks\")\n",
    "print(cov_vertices)"
   ]
  },
  {
   "cell_type": "code",
   "execution_count": 11,
   "id": "69ca6ebf",
   "metadata": {},
   "outputs": [
    {
     "name": "stdout",
     "output_type": "stream",
     "text": [
      "Computing covariance matrix...\n",
      "Done, False\n",
      "0\n",
      "0\n"
     ]
    }
   ],
   "source": [
    "print(\"Computing covariance matrix...\")\n",
    "m = graph_slam.optimizer.compute_marginals(covariances, cov_vertices)\n",
    "print(\"Done,\", m)\n",
    "\n",
    "print(covariances.rows())\n",
    "print(covariances.cols())"
   ]
  },
  {
   "cell_type": "code",
   "execution_count": 18,
   "id": "e2739d02",
   "metadata": {},
   "outputs": [
    {
     "name": "stdout",
     "output_type": "stream",
     "text": [
      "Covariance matrix:\n",
      " Working on vertex idx: 4\n",
      "  Hessian idx is: 3\n",
      "  ERROR: The covariance matrix is not big enough. Something is wrong.\n",
      " Working on vertex idx: 2\n",
      "  Hessian idx is: 1\n",
      "  ERROR: The covariance matrix is not big enough. Something is wrong.\n"
     ]
    }
   ],
   "source": [
    "print(\"Covariance matrix:\")\n",
    "for vertex_idx in vertices:\n",
    "    v = vertices[vertex_idx]\n",
    "    if type(v) == g2o.VertexSE2 and not v.fixed():\n",
    "        print(\" Working on vertex idx:\", vertex_idx)\n",
    "        print(\"  Hessian idx is:\", v.hessian_index())\n",
    "        if covariances.rows() > v.hessian_index() and covariances.cols() > v.hessian_index():\n",
    "            covariance = covariances.block(v.hessian_index(), v.hessian_index());\n",
    "            print(\"  Covariance is:\", covariance)\n",
    "        else:\n",
    "            print(\"  ERROR: The covariance matrix is not big enough. Something is wrong.\")"
   ]
  },
  {
   "cell_type": "code",
   "execution_count": null,
   "id": "8194b685",
   "metadata": {},
   "outputs": [],
   "source": []
  }
 ],
 "metadata": {
  "kernelspec": {
   "display_name": "Python 3",
   "language": "python",
   "name": "python3"
  },
  "language_info": {
   "codemirror_mode": {
    "name": "ipython",
    "version": 3
   },
   "file_extension": ".py",
   "mimetype": "text/x-python",
   "name": "python",
   "nbconvert_exporter": "python",
   "pygments_lexer": "ipython3",
   "version": "3.10.6"
  }
 },
 "nbformat": 4,
 "nbformat_minor": 5
}
